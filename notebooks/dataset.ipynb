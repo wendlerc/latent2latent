{
 "cells": [
  {
   "cell_type": "code",
   "execution_count": 1,
   "metadata": {},
   "outputs": [],
   "source": [
    "%load_ext autoreload\n",
    "%autoreload 2"
   ]
  },
  {
   "cell_type": "code",
   "execution_count": 2,
   "metadata": {},
   "outputs": [],
   "source": [
    "import sys\n",
    "sys.path.append('../owl-wms')\n",
    "sys.path.append('../owl-vaes')\n",
    "sys.path.append('..')"
   ]
  },
  {
   "cell_type": "code",
   "execution_count": 3,
   "metadata": {},
   "outputs": [],
   "source": [
    "#from lat2lat.data import get_loader\n",
    "from owl_vaes.data.local_cod import get_loader\n",
    "import torch\n",
    "from lat2lat.models import WANDCAEPair"
   ]
  },
  {
   "cell_type": "code",
   "execution_count": 4,
   "metadata": {},
   "outputs": [],
   "source": [
    "batch_size = 5"
   ]
  },
  {
   "cell_type": "code",
   "execution_count": 5,
   "metadata": {},
   "outputs": [],
   "source": [
    "loader = get_loader(batch_size, root='/mnt/nas/YoutubeCoD/')"
   ]
  },
  {
   "cell_type": "code",
   "execution_count": 6,
   "metadata": {},
   "outputs": [
    {
     "name": "stdout",
     "output_type": "stream",
     "text": [
      "torch.Size([5, 3, 360, 640])\n"
     ]
    }
   ],
   "source": [
    "d = next(iter(loader))\n",
    "print(d.shape)"
   ]
  },
  {
   "cell_type": "code",
   "execution_count": 9,
   "metadata": {},
   "outputs": [
    {
     "name": "stdout",
     "output_type": "stream",
     "text": [
      "torch.Size([5, 3, 360, 640])\n",
      "torch.Size([1, 5, 3, 360, 640])\n",
      "torch.Size([1, 2, 16, 64, 64]) torch.Size([1, 5, 128, 4, 4])\n"
     ]
    }
   ],
   "source": [
    "pair = WANDCAEPair()\n",
    "pair.bfloat16()\n",
    "pair.cuda()\n",
    "\n",
    "print(d.shape)\n",
    "x_wan, x_dcae = pair.preprocess(d.unsqueeze(0).float().cuda())\n",
    "mean_wan, mean_dcae = pair(x_wan, x_dcae)\n",
    "print(mean_wan.shape, mean_dcae.shape)"
   ]
  },
  {
   "cell_type": "code",
   "execution_count": 10,
   "metadata": {},
   "outputs": [
    {
     "name": "stdout",
     "output_type": "stream",
     "text": [
      "Tar buffer size: 552960 bytes (0.53 MB)\n",
      "Tensors saved to ../../data/pair.tar\n"
     ]
    }
   ],
   "source": [
    "import tarfile\n",
    "import io\n",
    "import os\n",
    "\n",
    "# Create data directory if it doesn't exist\n",
    "os.makedirs('../../data', exist_ok=True)\n",
    "\n",
    "# Create tar file in memory\n",
    "tar_buffer = io.BytesIO()\n",
    "\n",
    "with tarfile.open(fileobj=tar_buffer, mode='w') as tar:\n",
    "    # Add mean_wan tensor\n",
    "    wan_buffer = io.BytesIO()\n",
    "    torch.save(mean_wan, wan_buffer)\n",
    "    wan_buffer.seek(0)\n",
    "    wan_info = tarfile.TarInfo(name='mean_wan.pt')\n",
    "    wan_info.size = len(wan_buffer.getvalue())\n",
    "    tar.addfile(wan_info, wan_buffer)\n",
    "    \n",
    "    # Add mean_dcae tensor\n",
    "    dcae_buffer = io.BytesIO()\n",
    "    torch.save(mean_dcae, dcae_buffer)\n",
    "    dcae_buffer.seek(0)\n",
    "    dcae_info = tarfile.TarInfo(name='mean_dcae.pt')\n",
    "    dcae_info.size = len(dcae_buffer.getvalue())\n",
    "    tar.addfile(dcae_info, dcae_buffer)\n",
    "\n",
    "# Print the size of the tar buffer\n",
    "tar_buffer.seek(0)\n",
    "tar_size = len(tar_buffer.getvalue())\n",
    "print(f\"Tar buffer size: {tar_size} bytes ({tar_size / 1024 / 1024:.2f} MB)\")\n",
    "\n",
    "# Write the tar file to disk\n",
    "tar_buffer.seek(0)\n",
    "with open('../../../data/pair.tar', 'wb') as f:\n",
    "    f.write(tar_buffer.getvalue())\n",
    "\n",
    "print(\"Tensors saved to ../../../data/pair.tar\")"
   ]
  }
 ],
 "metadata": {
  "kernelspec": {
   "display_name": "base",
   "language": "python",
   "name": "python3"
  },
  "language_info": {
   "codemirror_mode": {
    "name": "ipython",
    "version": 3
   },
   "file_extension": ".py",
   "mimetype": "text/x-python",
   "name": "python",
   "nbconvert_exporter": "python",
   "pygments_lexer": "ipython3",
   "version": "3.11.12"
  }
 },
 "nbformat": 4,
 "nbformat_minor": 2
}
