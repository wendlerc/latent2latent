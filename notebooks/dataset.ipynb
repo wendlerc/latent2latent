{
 "cells": [
  {
   "cell_type": "code",
   "execution_count": 1,
   "metadata": {},
   "outputs": [],
   "source": [
    "%load_ext autoreload\n",
    "%autoreload 2"
   ]
  },
  {
   "cell_type": "code",
   "execution_count": 2,
   "metadata": {},
   "outputs": [],
   "source": [
    "import sys\n",
    "sys.path.append('../owl-wms')\n",
    "sys.path.append('../owl-vaes')\n",
    "sys.path.append('..')"
   ]
  },
  {
   "cell_type": "code",
   "execution_count": 3,
   "metadata": {},
   "outputs": [],
   "source": [
    "#from lat2lat.data import get_loader\n",
    "from owl_vaes.data.local_cod import get_loader\n",
    "import torch\n",
    "from lat2lat.models import WANDCAEPair"
   ]
  },
  {
   "cell_type": "code",
   "execution_count": 4,
   "metadata": {},
   "outputs": [],
   "source": [
    "batch_size = 5"
   ]
  },
  {
   "cell_type": "code",
   "execution_count": 5,
   "metadata": {},
   "outputs": [],
   "source": [
    "loader = get_loader(batch_size, root='/mnt/nas/YoutubeCoD/')"
   ]
  },
  {
   "cell_type": "code",
   "execution_count": 6,
   "metadata": {},
   "outputs": [
    {
     "name": "stdout",
     "output_type": "stream",
     "text": [
      "torch.Size([5, 3, 360, 640])\n"
     ]
    }
   ],
   "source": [
    "d = next(iter(loader))\n",
    "print(d.shape)"
   ]
  },
  {
   "cell_type": "code",
   "execution_count": 7,
   "metadata": {},
   "outputs": [
    {
     "name": "stdout",
     "output_type": "stream",
     "text": [
      "torch.Size([5, 3, 360, 640])\n",
      "torch.Size([1, 5, 3, 360, 640])\n",
      "torch.Size([1, 3, 5, 360, 640])\n",
      "torch.Size([1, 2, 16, 45, 80]) torch.Size([1, 5, 128, 4, 4])\n"
     ]
    }
   ],
   "source": [
    "pair = WANDCAEPair()\n",
    "pair.bfloat16()\n",
    "pair.cuda()\n",
    "\n",
    "print(d.shape)\n",
    "mean_wan, mean_dcae = pair(pair.preprocess(d.unsqueeze(0).cuda()))\n",
    "print(mean_wan.shape, mean_dcae.shape)"
   ]
  },
  {
   "cell_type": "code",
   "execution_count": null,
   "metadata": {},
   "outputs": [
    {
     "data": {
      "text/plain": [
       "False"
      ]
     },
     "execution_count": 8,
     "metadata": {},
     "output_type": "execute_result"
    }
   ],
   "source": [
    "pair.dcae.training"
   ]
  }
 ],
 "metadata": {
  "kernelspec": {
   "display_name": "base",
   "language": "python",
   "name": "python3"
  },
  "language_info": {
   "codemirror_mode": {
    "name": "ipython",
    "version": 3
   },
   "file_extension": ".py",
   "mimetype": "text/x-python",
   "name": "python",
   "nbconvert_exporter": "python",
   "pygments_lexer": "ipython3",
   "version": "3.11.12"
  }
 },
 "nbformat": 4,
 "nbformat_minor": 2
}
