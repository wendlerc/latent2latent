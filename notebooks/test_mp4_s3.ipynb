{
 "cells": [
  {
   "cell_type": "code",
   "execution_count": 4,
   "metadata": {},
   "outputs": [],
   "source": [
    "%load_ext autoreload\n",
    "%autoreload 2"
   ]
  },
  {
   "cell_type": "code",
   "execution_count": null,
   "metadata": {},
   "outputs": [],
   "source": [
    "import torch\n",
    "import sys\n",
    "sys.path.append('..')\n",
    "\n",
    "import glob\n",
    "\n",
    "pt_files = glob.glob('/home/developer/workspace/data/pt/*.pt')\n",
    "\n",
    "vids = [torch.load(pt_file) for pt_file in pt_files]"
   ]
  },
  {
   "cell_type": "code",
   "execution_count": null,
   "metadata": {},
   "outputs": [],
   "source": [
    "\n",
    "from lat2lat.utils import create_video_visualization, export_video_as_gif\n",
    "from IPython.display import display, HTML\n",
    "\n",
    "# Example usage with your reconstructed video\n",
    "print(\"Creating video visualizations...\")\n",
    "\n",
    "# 1. Animated playback\n",
    "print(\"\\n1. Creating animated playback...\")\n",
    "anim, video_np = create_video_visualization(vids[18][0].float()/255, \"Reconstructed Video Playback\")\n",
    "display(HTML(anim.to_jshtml()))\n",
    "\n",
    "# 2. Export as GIF\n",
    "print(\"\\n2. Exporting as GIF...\")\n",
    "export_video_as_gif(video_np, \"reconstructed_video.gif\", fps=30)"
   ]
  }
 ],
 "metadata": {
  "kernelspec": {
   "display_name": "base",
   "language": "python",
   "name": "python3"
  },
  "language_info": {
   "codemirror_mode": {
    "name": "ipython",
    "version": 3
   },
   "file_extension": ".py",
   "mimetype": "text/x-python",
   "name": "python",
   "nbconvert_exporter": "python",
   "pygments_lexer": "ipython3",
   "version": "3.11.12"
  }
 },
 "nbformat": 4,
 "nbformat_minor": 2
}
