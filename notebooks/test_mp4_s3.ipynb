{
 "cells": [
  {
   "cell_type": "code",
   "execution_count": 1,
   "metadata": {},
   "outputs": [],
   "source": [
    "%load_ext autoreload\n",
    "%autoreload 2"
   ]
  },
  {
   "cell_type": "code",
   "execution_count": 2,
   "metadata": {},
   "outputs": [],
   "source": [
    "import torch\n",
    "import sys\n",
    "sys.path.append('..')\n",
    "\n",
    "import glob\n",
    "\n",
    "pt_files = glob.glob('/home/developer/workspace/data/pt_train_valid_test/*/*/*.pt')\n",
    "\n",
    "vids = [torch.load(pt_file) for pt_file in pt_files]"
   ]
  },
  {
   "cell_type": "code",
   "execution_count": null,
   "metadata": {},
   "outputs": [],
   "source": [
    "# Test debug mode with snippet limit to get MP4 files along with tensors\n",
    "from lat2lat.data.mp4_video_dataset import get_video_loader\n",
    "\n",
    "print(\"Testing debug mode with snippet limit...\")\n",
    "debug_loader = get_video_loader(\n",
    "    batch_size=1,\n",
    "    bucket_name='cod-yt-playlist',\n",
    "    frames_per_sample=101,\n",
    "    target_height=360,\n",
    "    target_width=640,\n",
    "    crop_duration=10.2,\n",
    "    max_videos_queue=1,\n",
    "    max_tensors_queue=10,\n",
    "    max_videos=1    # Limit to 3 snippets for testing\n",
    ")\n",
    "\n",
    "d = next(iter(debug_loader))\n",
    "print(d.shape)"
   ]
  },
  {
   "cell_type": "code",
   "execution_count": null,
   "metadata": {},
   "outputs": [],
   "source": [
    "from lat2lat.utils import create_video_visualization, export_video_as_gif\n",
    "from IPython.display import display, HTML\n",
    "\n",
    "# Example usage with your reconstructed video\n",
    "print(\"Creating video visualizations...\")\n",
    "\n",
    "# 1. Animated playback\n",
    "print(\"\\n1. Creating animated playback...\")\n",
    "anim, video_np = create_video_visualization(((d[0].float()/255)-0.5)*2, \"Reconstructed Video Playback\") # since i wrote the viz for AE output we need to normalize to [-1,1]\n",
    "display(HTML(anim.to_jshtml()))\n",
    "\n",
    "# 2. Export as GIF\n",
    "print(\"\\n2. Exporting as GIF...\")\n",
    "export_video_as_gif(video_np, \"reconstructed_video.gif\", fps=30)"
   ]
  }
 ],
 "metadata": {
  "kernelspec": {
   "display_name": "base",
   "language": "python",
   "name": "python3"
  },
  "language_info": {
   "codemirror_mode": {
    "name": "ipython",
    "version": 3
   },
   "file_extension": ".py",
   "mimetype": "text/x-python",
   "name": "python",
   "nbconvert_exporter": "python",
   "pygments_lexer": "ipython3",
   "version": "3.11.12"
  }
 },
 "nbformat": 4,
 "nbformat_minor": 2
}
